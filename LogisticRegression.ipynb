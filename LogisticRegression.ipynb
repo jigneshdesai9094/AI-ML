{
 "cells": [
  {
   "cell_type": "code",
   "execution_count": null,
   "id": "initial_id",
   "metadata": {
    "collapsed": true
   },
   "outputs": [],
   "source": [
    ""
   ]
  },
  {
   "metadata": {
    "ExecuteTime": {
     "end_time": "2025-09-15T03:25:01.782787Z",
     "start_time": "2025-09-15T03:25:01.733353Z"
    }
   },
   "cell_type": "code",
   "source": [
    "import pandas as pd\n",
    "from io import StringIO\n",
    "from sklearn.model_selection import train_test_split\n",
    "from sklearn.preprocessing import StandardScaler\n",
    "from sklearn.linear_model import LogisticRegression\n",
    "from sklearn.metrics import accuracy_score, confusion_matrix, classification_report, roc_auc_score\n",
    "import numpy as np\n",
    "\n",
    "# Step 1: Load and preprocess\n",
    "df = pd.read_csv(\"./datafiles/Advertising.csv\")\n",
    "df = df[['TV', 'radio', 'newspaper', 'sales']].dropna()\n",
    "df['high_sales'] = (df['sales'] > df['sales'].mean()).astype(int)\n",
    "X = df[['TV', 'radio', 'newspaper']]\n",
    "y = df['high_sales']\n",
    "scaler = StandardScaler()\n",
    "X_scaled = scaler.fit_transform(X)\n",
    "\n",
    "# Step 2: Split data\n",
    "X_train, X_test, y_train, y_test = train_test_split(X_scaled, y, test_size=0.2, random_state=42)\n",
    "\n",
    "# Step 3: Train model\n",
    "model = LogisticRegression(random_state=42)\n",
    "model.fit(X_train, y_train)\n",
    "print(\"Coefficients:\", dict(zip(['TV', 'radio', 'newspaper'], model.coef_[0])))\n",
    "print(\"Intercept:\", model.intercept_[0])\n",
    "\n",
    "# Step 4: Predict\n",
    "y_pred_proba = model.predict_proba(X_test)[:, 1]\n",
    "y_pred = model.predict(X_test)\n",
    "\n",
    "# Step 5: Evaluate\n",
    "print(f\"Accuracy: {accuracy_score(y_test, y_pred):.3f}\")\n",
    "print(\"Confusion Matrix:\\n\", confusion_matrix(y_test, y_pred))\n",
    "print(\"Classification Report:\\n\", classification_report(y_test, y_pred))\n"
   ],
   "id": "c489c0790beabf3a",
   "outputs": [
    {
     "name": "stdout",
     "output_type": "stream",
     "text": [
      "Coefficients: {'TV': np.float64(2.889640911267738), 'radio': np.float64(2.8241720901588283), 'newspaper': np.float64(-0.11846532025054544)}\n",
      "Intercept: -0.42783183937371655\n",
      "Accuracy: 0.975\n",
      "Confusion Matrix:\n",
      " [[24  1]\n",
      " [ 0 15]]\n",
      "Classification Report:\n",
      "               precision    recall  f1-score   support\n",
      "\n",
      "           0       1.00      0.96      0.98        25\n",
      "           1       0.94      1.00      0.97        15\n",
      "\n",
      "    accuracy                           0.97        40\n",
      "   macro avg       0.97      0.98      0.97        40\n",
      "weighted avg       0.98      0.97      0.98        40\n",
      "\n"
     ]
    }
   ],
   "execution_count": 2
  },
  {
   "metadata": {},
   "cell_type": "code",
   "outputs": [],
   "execution_count": null,
   "source": "",
   "id": "ab911d73d8ce5229"
  }
 ],
 "metadata": {
  "kernelspec": {
   "display_name": "Python 3",
   "language": "python",
   "name": "python3"
  },
  "language_info": {
   "codemirror_mode": {
    "name": "ipython",
    "version": 2
   },
   "file_extension": ".py",
   "mimetype": "text/x-python",
   "name": "python",
   "nbconvert_exporter": "python",
   "pygments_lexer": "ipython2",
   "version": "2.7.6"
  }
 },
 "nbformat": 4,
 "nbformat_minor": 5
}
